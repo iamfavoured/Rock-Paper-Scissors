{
 "cells": [
  {
   "cell_type": "code",
   "execution_count": 7,
   "metadata": {},
   "outputs": [
    {
     "name": "stdout",
     "output_type": "stream",
     "text": [
      "Pick betweer R P S: S\n",
      "CPU: ['S']\n",
      "\n",
      "user ['S']\n",
      "It is a Tie\n",
      "Pick betweer R P S: R\n",
      "CPU: ['P']\n",
      "\n",
      "user ['R']\n",
      "CPU wins\n"
     ]
    }
   ],
   "source": [
    "while True:\n",
    "    user=[]\n",
    "    game = input('Pick betweer R P S: ')\n",
    "    user.append(game)\n",
    "    if user == ['P'] or user == ['R'] or user == ['S']:\n",
    "        pass\n",
    "    else:\n",
    "        print ('error!, input a valid integer')\n",
    "        break\n",
    "    from random import choice\n",
    "    CPU = ['P','R','S']\n",
    "    for x in range(1):\n",
    "        CPU = list(choice(CPU))\n",
    "        print(f'CPU: {CPU}')\n",
    "        print()\n",
    "        print('user', user)\n",
    "    if user == CPU:\n",
    "        print('It is a Tie')\n",
    "        continue\n",
    "    else:\n",
    "        break\n",
    "if user == ['R'] and CPU == ['S']:\n",
    "    print('user wins')\n",
    "elif user == ['R'] and CPU == ['P']:\n",
    "    print('CPU wins')\n",
    "elif user == ['S'] and CPU == ['P']:\n",
    "    print('user wins')\n",
    "elif user == ['S'] and CPU == ['R']:\n",
    "    print('CPU wins')\n",
    "elif user == ['P'] and CPU == ['R']:\n",
    "    print('user wins')\n",
    "elif user == ['P'] and CPU == ['S']:\n",
    "    print('CPU wins')\n",
    "else:\n",
    "    print('Thanks for Playing')"
   ]
  },
  {
   "cell_type": "code",
   "execution_count": null,
   "metadata": {},
   "outputs": [],
   "source": []
  },
  {
   "cell_type": "code",
   "execution_count": null,
   "metadata": {},
   "outputs": [],
   "source": []
  }
 ],
 "metadata": {
  "kernelspec": {
   "display_name": "Python 3",
   "language": "python",
   "name": "python3"
  },
  "language_info": {
   "codemirror_mode": {
    "name": "ipython",
    "version": 3
   },
   "file_extension": ".py",
   "mimetype": "text/x-python",
   "name": "python",
   "nbconvert_exporter": "python",
   "pygments_lexer": "ipython3",
   "version": "3.7.6"
  }
 },
 "nbformat": 4,
 "nbformat_minor": 4
}
